{
  "nbformat": 4,
  "nbformat_minor": 0,
  "metadata": {
    "colab": {
      "provenance": [],
      "authorship_tag": "ABX9TyMQQfUAc9dg4uZBGN+DvoUp",
      "include_colab_link": true
    },
    "kernelspec": {
      "name": "python3",
      "display_name": "Python 3"
    },
    "language_info": {
      "name": "python"
    },
    "gpuClass": "standard"
  },
  "cells": [
    {
      "cell_type": "markdown",
      "metadata": {
        "id": "view-in-github",
        "colab_type": "text"
      },
      "source": [
        "<a href=\"https://colab.research.google.com/github/sachaRfd/Chemistry-Related-notebooks/blob/main/Genarating_Chemical_Compounds_using_RNN.ipynb\" target=\"_parent\"><img src=\"https://colab.research.google.com/assets/colab-badge.svg\" alt=\"Open In Colab\"/></a>"
      ]
    },
    {
      "cell_type": "markdown",
      "source": [
        "Project Brief: \n",
        "- I want to create and train RNNs to be able to generate theoretically pheasible chemical compounds. For this I will be trying to implement LSTMs as they have been shown to produce SMILES (String-form representations of chemicals) quite well. \n",
        "\n"
      ],
      "metadata": {
        "id": "0lw2IkxC9keh"
      }
    },
    {
      "cell_type": "markdown",
      "source": [
        "Let's do some classic Imports: "
      ],
      "metadata": {
        "id": "djU53vgl99vT"
      }
    },
    {
      "cell_type": "code",
      "execution_count": 1,
      "metadata": {
        "colab": {
          "base_uri": "https://localhost:8080/"
        },
        "id": "t1k8CK4H9f7i",
        "outputId": "10d75542-1d26-4fc0-edee-a3c1dc100ac6"
      },
      "outputs": [
        {
          "output_type": "stream",
          "name": "stdout",
          "text": [
            "\u001b[K     |████████████████████████████████| 29.3 MB 1.3 MB/s \n",
            "\u001b[K     |████████████████████████████████| 800 kB 8.2 MB/s \n",
            "\u001b[K     |████████████████████████████████| 512 kB 57.1 MB/s \n",
            "\u001b[K     |████████████████████████████████| 125 kB 54.2 MB/s \n",
            "\u001b[?25hYour Current Device is cpu\n",
            "Mounted at /content/drive\n"
          ]
        }
      ],
      "source": [
        "%load_ext tensorboard\n",
        "import pandas as pd\n",
        "import numpy as np\n",
        "import matplotlib.pyplot as plt\n",
        "import sys, os\n",
        "sys.version\n",
        "\n",
        "\n",
        "!pip install rdkit -q\n",
        "\n",
        "from rdkit import Chem\n",
        "from rdkit.Chem.Draw import IPythonConsole\n",
        "from rdkit.Chem import PandasTools\n",
        "from rdkit.Chem import Descriptors\n",
        "\n",
        "!pip -q install pytorch-lightning\n",
        "\n",
        "import torch\n",
        "from torch.utils.data import Dataset, DataLoader\n",
        "from pytorch_lightning import LightningDataModule, LightningModule\n",
        "# Set Device to GPU is available - otherwise set to CPU: \n",
        "device = torch.device('cuda' if torch.cuda.is_available() else 'cpu')\n",
        "print(f'Your Current Device is {device}')  # Check the Colab Device we are using\n",
        "\n",
        "\n",
        "\n",
        "from google.colab import drive\n",
        "drive.mount('/content/drive')"
      ]
    },
    {
      "cell_type": "markdown",
      "source": [
        "Now we need to think about how we are going to be getting our data and preprocessing it: \n",
        "\n",
        "- Zinc is a great place to find chemical compound SMILES: \n",
        "\n",
        "http://files.docking.org/2D/"
      ],
      "metadata": {
        "id": "fr1TOPfj-srj"
      }
    },
    {
      "cell_type": "code",
      "source": [
        "shard = \"EEBD\"\n",
        "os.system(f\"mkdir -pv {shard[0:2]} && wget -c http://files.docking.org/2D/{shard[0:2]}/{shard}.smi -O {shard[0:2]}/{shard}.smi\")\n",
        "DF = pd.read_csv('EE/EEBD.smi', sep = \" \")  # In the File, the Smiles and Zinc_ids are seperated by a space\n",
        "DF"
      ],
      "metadata": {
        "colab": {
          "base_uri": "https://localhost:8080/",
          "height": 423
        },
        "id": "89L21COI-_zC",
        "outputId": "38fd26fe-4023-47a7-9147-321a300ead59"
      },
      "execution_count": 11,
      "outputs": [
        {
          "output_type": "execute_result",
          "data": {
            "text/plain": [
              "                                                   smiles     zinc_id\n",
              "0            O=C(COc1ccccc1[N+](=O)[O-])OCc1ccc2c(c1)OCO2     6119166\n",
              "1              CN(CCc1ccccn1)C(=O)CCNc1ccccc1[N+](=O)[O-]    55206436\n",
              "2         Cc1ocnc1C(=O)OCC1CCN(c2ccc([N+](=O)[O-])cn2)CC1   105766284\n",
              "3       CSCC[C@@H]1NC(=S)N([C@@H](C)c2cccc([N+](=O)[O-...    55179745\n",
              "4          Cc1ccc([N+](=O)[O-])cc1NC(=O)CN1CCC(NC(C)C)CC1   108371623\n",
              "...                                                   ...         ...\n",
              "426480  Cc1ncn(C)c1C(=O)N1CCC(Nc2ccc([N+](=O)[O-])cc2)CC1  1057380417\n",
              "426481    Cc1ncncc1C(=O)NC1CCN(c2ccc([N+](=O)[O-])cc2)CC1  1057839606\n",
              "426482  O=C(N[C@H]1CC[C@H](Nc2ccccc2[N+](=O)[O-])CC1)c...  1063352532\n",
              "426483      O=C(NCC1CC2(C1)OCCO2)c1cccc(Cl)c1[N+](=O)[O-]   832201123\n",
              "426484              CC1(CCNc2ncc([N+](=O)[O-])cc2Br)OCCO1   302150452\n",
              "\n",
              "[426485 rows x 2 columns]"
            ],
            "text/html": [
              "\n",
              "  <div id=\"df-74f876f8-c319-4c27-a0c7-2201588554c9\">\n",
              "    <div class=\"colab-df-container\">\n",
              "      <div>\n",
              "<style scoped>\n",
              "    .dataframe tbody tr th:only-of-type {\n",
              "        vertical-align: middle;\n",
              "    }\n",
              "\n",
              "    .dataframe tbody tr th {\n",
              "        vertical-align: top;\n",
              "    }\n",
              "\n",
              "    .dataframe thead th {\n",
              "        text-align: right;\n",
              "    }\n",
              "</style>\n",
              "<table border=\"1\" class=\"dataframe\">\n",
              "  <thead>\n",
              "    <tr style=\"text-align: right;\">\n",
              "      <th></th>\n",
              "      <th>smiles</th>\n",
              "      <th>zinc_id</th>\n",
              "    </tr>\n",
              "  </thead>\n",
              "  <tbody>\n",
              "    <tr>\n",
              "      <th>0</th>\n",
              "      <td>O=C(COc1ccccc1[N+](=O)[O-])OCc1ccc2c(c1)OCO2</td>\n",
              "      <td>6119166</td>\n",
              "    </tr>\n",
              "    <tr>\n",
              "      <th>1</th>\n",
              "      <td>CN(CCc1ccccn1)C(=O)CCNc1ccccc1[N+](=O)[O-]</td>\n",
              "      <td>55206436</td>\n",
              "    </tr>\n",
              "    <tr>\n",
              "      <th>2</th>\n",
              "      <td>Cc1ocnc1C(=O)OCC1CCN(c2ccc([N+](=O)[O-])cn2)CC1</td>\n",
              "      <td>105766284</td>\n",
              "    </tr>\n",
              "    <tr>\n",
              "      <th>3</th>\n",
              "      <td>CSCC[C@@H]1NC(=S)N([C@@H](C)c2cccc([N+](=O)[O-...</td>\n",
              "      <td>55179745</td>\n",
              "    </tr>\n",
              "    <tr>\n",
              "      <th>4</th>\n",
              "      <td>Cc1ccc([N+](=O)[O-])cc1NC(=O)CN1CCC(NC(C)C)CC1</td>\n",
              "      <td>108371623</td>\n",
              "    </tr>\n",
              "    <tr>\n",
              "      <th>...</th>\n",
              "      <td>...</td>\n",
              "      <td>...</td>\n",
              "    </tr>\n",
              "    <tr>\n",
              "      <th>426480</th>\n",
              "      <td>Cc1ncn(C)c1C(=O)N1CCC(Nc2ccc([N+](=O)[O-])cc2)CC1</td>\n",
              "      <td>1057380417</td>\n",
              "    </tr>\n",
              "    <tr>\n",
              "      <th>426481</th>\n",
              "      <td>Cc1ncncc1C(=O)NC1CCN(c2ccc([N+](=O)[O-])cc2)CC1</td>\n",
              "      <td>1057839606</td>\n",
              "    </tr>\n",
              "    <tr>\n",
              "      <th>426482</th>\n",
              "      <td>O=C(N[C@H]1CC[C@H](Nc2ccccc2[N+](=O)[O-])CC1)c...</td>\n",
              "      <td>1063352532</td>\n",
              "    </tr>\n",
              "    <tr>\n",
              "      <th>426483</th>\n",
              "      <td>O=C(NCC1CC2(C1)OCCO2)c1cccc(Cl)c1[N+](=O)[O-]</td>\n",
              "      <td>832201123</td>\n",
              "    </tr>\n",
              "    <tr>\n",
              "      <th>426484</th>\n",
              "      <td>CC1(CCNc2ncc([N+](=O)[O-])cc2Br)OCCO1</td>\n",
              "      <td>302150452</td>\n",
              "    </tr>\n",
              "  </tbody>\n",
              "</table>\n",
              "<p>426485 rows × 2 columns</p>\n",
              "</div>\n",
              "      <button class=\"colab-df-convert\" onclick=\"convertToInteractive('df-74f876f8-c319-4c27-a0c7-2201588554c9')\"\n",
              "              title=\"Convert this dataframe to an interactive table.\"\n",
              "              style=\"display:none;\">\n",
              "        \n",
              "  <svg xmlns=\"http://www.w3.org/2000/svg\" height=\"24px\"viewBox=\"0 0 24 24\"\n",
              "       width=\"24px\">\n",
              "    <path d=\"M0 0h24v24H0V0z\" fill=\"none\"/>\n",
              "    <path d=\"M18.56 5.44l.94 2.06.94-2.06 2.06-.94-2.06-.94-.94-2.06-.94 2.06-2.06.94zm-11 1L8.5 8.5l.94-2.06 2.06-.94-2.06-.94L8.5 2.5l-.94 2.06-2.06.94zm10 10l.94 2.06.94-2.06 2.06-.94-2.06-.94-.94-2.06-.94 2.06-2.06.94z\"/><path d=\"M17.41 7.96l-1.37-1.37c-.4-.4-.92-.59-1.43-.59-.52 0-1.04.2-1.43.59L10.3 9.45l-7.72 7.72c-.78.78-.78 2.05 0 2.83L4 21.41c.39.39.9.59 1.41.59.51 0 1.02-.2 1.41-.59l7.78-7.78 2.81-2.81c.8-.78.8-2.07 0-2.86zM5.41 20L4 18.59l7.72-7.72 1.47 1.35L5.41 20z\"/>\n",
              "  </svg>\n",
              "      </button>\n",
              "      \n",
              "  <style>\n",
              "    .colab-df-container {\n",
              "      display:flex;\n",
              "      flex-wrap:wrap;\n",
              "      gap: 12px;\n",
              "    }\n",
              "\n",
              "    .colab-df-convert {\n",
              "      background-color: #E8F0FE;\n",
              "      border: none;\n",
              "      border-radius: 50%;\n",
              "      cursor: pointer;\n",
              "      display: none;\n",
              "      fill: #1967D2;\n",
              "      height: 32px;\n",
              "      padding: 0 0 0 0;\n",
              "      width: 32px;\n",
              "    }\n",
              "\n",
              "    .colab-df-convert:hover {\n",
              "      background-color: #E2EBFA;\n",
              "      box-shadow: 0px 1px 2px rgba(60, 64, 67, 0.3), 0px 1px 3px 1px rgba(60, 64, 67, 0.15);\n",
              "      fill: #174EA6;\n",
              "    }\n",
              "\n",
              "    [theme=dark] .colab-df-convert {\n",
              "      background-color: #3B4455;\n",
              "      fill: #D2E3FC;\n",
              "    }\n",
              "\n",
              "    [theme=dark] .colab-df-convert:hover {\n",
              "      background-color: #434B5C;\n",
              "      box-shadow: 0px 1px 3px 1px rgba(0, 0, 0, 0.15);\n",
              "      filter: drop-shadow(0px 1px 2px rgba(0, 0, 0, 0.3));\n",
              "      fill: #FFFFFF;\n",
              "    }\n",
              "  </style>\n",
              "\n",
              "      <script>\n",
              "        const buttonEl =\n",
              "          document.querySelector('#df-74f876f8-c319-4c27-a0c7-2201588554c9 button.colab-df-convert');\n",
              "        buttonEl.style.display =\n",
              "          google.colab.kernel.accessAllowed ? 'block' : 'none';\n",
              "\n",
              "        async function convertToInteractive(key) {\n",
              "          const element = document.querySelector('#df-74f876f8-c319-4c27-a0c7-2201588554c9');\n",
              "          const dataTable =\n",
              "            await google.colab.kernel.invokeFunction('convertToInteractive',\n",
              "                                                     [key], {});\n",
              "          if (!dataTable) return;\n",
              "\n",
              "          const docLinkHtml = 'Like what you see? Visit the ' +\n",
              "            '<a target=\"_blank\" href=https://colab.research.google.com/notebooks/data_table.ipynb>data table notebook</a>'\n",
              "            + ' to learn more about interactive tables.';\n",
              "          element.innerHTML = '';\n",
              "          dataTable['output_type'] = 'display_data';\n",
              "          await google.colab.output.renderOutput(dataTable, element);\n",
              "          const docLink = document.createElement('div');\n",
              "          docLink.innerHTML = docLinkHtml;\n",
              "          element.appendChild(docLink);\n",
              "        }\n",
              "      </script>\n",
              "    </div>\n",
              "  </div>\n",
              "  "
            ]
          },
          "metadata": {},
          "execution_count": 11
        }
      ]
    },
    {
      "cell_type": "markdown",
      "source": [
        "We can see that the dataset is quite large, let's check for ducplicates: "
      ],
      "metadata": {
        "id": "oMfKl1UU__GG"
      }
    },
    {
      "cell_type": "code",
      "source": [
        "print('There are',DF.duplicated().sum(), 'Duplicates in the Dataset!')"
      ],
      "metadata": {
        "colab": {
          "base_uri": "https://localhost:8080/"
        },
        "id": "g394PB04AC_z",
        "outputId": "13e0ac55-6885-423c-fb9f-bf299fae065c"
      },
      "execution_count": 15,
      "outputs": [
        {
          "output_type": "stream",
          "name": "stdout",
          "text": [
            "There are 0 Duplicates in the Dataset!\n"
          ]
        }
      ]
    },
    {
      "cell_type": "markdown",
      "source": [
        "Now we have to think about Tokenising the SMILES in a way the algorithm can understand the molecules: Classic Encoding and possibly spatial Encoding: \n",
        "\n",
        "For now I will be using a Character based Tokenising algorithm adapted from the following blog: \n",
        "\n",
        "https://www.cheminformania.com/non-conditional-de-novo-molecular-generation-with-transformer-encoders/"
      ],
      "metadata": {
        "id": "lm1BVnYwAP5k"
      }
    },
    {
      "cell_type": "code",
      "source": [
        "# A simple tokenizer\n",
        "class SimpleTokenizer():\n",
        "  def __init__(self):\n",
        "    self.start = \"^\"  # Starting Character \n",
        "    self.end = \"$\"  #  Ending Character\n",
        "    self.unknown = \"?\"\n",
        "    self.pad = \" \"  # Padding to all the SMILES are same length\n",
        "  def create_vocabulary(self, smiles):\n",
        "    charset = set(\"\".join(list(smiles)))\n",
        "    #Important that pad gets value 0\n",
        "    self.tokenlist = [self.pad, self.unknown, self.start, self.end] + list(charset)\n",
        "  @property\n",
        "  def tokenlist(self):\n",
        "    return self._tokenlist\n",
        "  @tokenlist.setter\n",
        "  def tokenlist(self, tokenlist):\n",
        "    self._tokenlist = tokenlist\n",
        "    #create the dictionaries      \n",
        "    self.char_to_int = {c:i for i,c in enumerate(self._tokenlist)}\n",
        "    self.int_to_char = {i:c for c,i in self.char_to_int.items()}\n",
        "  def vectorize(self, smiles):\n",
        "      return [self.char_to_int[self.start]] + [self.char_to_int.get(char, self.char_to_int[self.unknown]) for char in smiles] + [self.char_to_int[self.end]]\n",
        "  def devectorize(self, tensor):\n",
        "      return [self.int_to_char[i] for i in tensor]\n",
        "  @property\n",
        "  def n_tokens(self):\n",
        "    return len(self.int_to_char)"
      ],
      "metadata": {
        "id": "eiXt9yHOAPAt"
      },
      "execution_count": 42,
      "outputs": []
    },
    {
      "cell_type": "code",
      "source": [
        "Tokeniser = SimpleTokenizer()"
      ],
      "metadata": {
        "id": "v_BHjvdpA_BP"
      },
      "execution_count": 19,
      "outputs": []
    },
    {
      "cell_type": "markdown",
      "source": [
        "Now lets create a dataset class that is able to turn smiles into Tensors that can be read through an RNN such as LSTMs:\n",
        "\n",
        "The Class needs to include at least a len function and a getitem function."
      ],
      "metadata": {
        "id": "fg6mlRfLBWQq"
      }
    },
    {
      "cell_type": "markdown",
      "source": [
        "Simple Dataset Class: "
      ],
      "metadata": {
        "id": "Ob5r_pEpFwWl"
      }
    },
    {
      "cell_type": "code",
      "source": [
        "# shard = \"EEBD\"\n",
        "# os.system(f\"mkdir -pv {shard[0:2]} && wget -c http://files.docking.org/2D/{shard[0:2]}/{shard}.smi -O {shard[0:2]}/{shard}.smi\")\n",
        "# DF = pd.read_csv('EE/EEBD.smi', sep = \" \")  # In the File, the Smiles and Zinc_ids are seperated by a space\n",
        "# DF\n",
        "\n",
        "class Molecular_Dataset(Dataset):\n",
        "  def __init__(self):\n",
        "    self.shard = \"EEBD\"\n",
        "    # Next line Imports the data to local drive:\n",
        "    os.system(f\"mkdir -pv {shard[0:2]} && wget -c http://files.docking.org/2D/{shard[0:2]}/{shard}.smi -O {shard[0:2]}/{shard}.smi\")\n",
        "    self.DF = pd.read_csv('EE/EEBD.smi', sep = \" \")\n",
        "    self.data = self.DF\n",
        "  def __len__(self):\n",
        "    return len(self.data)\n",
        "  def __getitem__(self, idx):\n",
        "    smiles = self.data.smiles.iloc[idx]\n",
        "    return smiles\n",
        "\n",
        "Mol_DS = Molecular_Dataset()\n",
        "Mol_DS[100]"
      ],
      "metadata": {
        "colab": {
          "base_uri": "https://localhost:8080/",
          "height": 36
        },
        "id": "yla3pW19Fxnx",
        "outputId": "29de9303-aa92-4514-d071-9e44e6e05664"
      },
      "execution_count": 45,
      "outputs": [
        {
          "output_type": "execute_result",
          "data": {
            "text/plain": [
              "'C[C@@H](NC(=O)c1c[nH]c2ccncc2c1=O)c1cccc([N+](=O)[O-])c1'"
            ],
            "application/vnd.google.colaboratory.intrinsic+json": {
              "type": "string"
            }
          },
          "metadata": {},
          "execution_count": 45
        }
      ]
    },
    {
      "cell_type": "markdown",
      "source": [
        "Below is the dataset I am trying to make myself: \n",
        "\n",
        "- Will be working on it more later: "
      ],
      "metadata": {
        "id": "_lbqgswUG4St"
      }
    },
    {
      "cell_type": "code",
      "source": [
        "# shard = \"EEBD\"\n",
        "# os.system(f\"mkdir -pv {shard[0:2]} && wget -c http://files.docking.org/2D/{shard[0:2]}/{shard}.smi -O {shard[0:2]}/{shard}.smi\")\n",
        "# DF = pd.read_csv('EE/EEBD.smi', sep = \" \")  # In the File, the Smiles and Zinc_ids are seperated by a space\n",
        "# DF\n",
        "\n",
        "class Molecular_Dataset(Dataset):\n",
        "  def __init__(self, tokenizer):\n",
        "    self.shard = \"EEBD\"\n",
        "    # Next line Imports the data to local drive:\n",
        "    os.system(f\"mkdir -pv {shard[0:2]} && wget -c http://files.docking.org/2D/{shard[0:2]}/{shard}.smi -O {shard[0:2]}/{shard}.smi\")\n",
        "    self.DF = pd.read_csv('EE/EEBD.smi', sep = \" \")\n",
        "    self.data = self.DF\n",
        "    self.tokenizer = tokenizer\n",
        "    \n",
        "  def __len__(self):\n",
        "    return len(self.data)\n",
        "  def __getitem__(self, idx):\n",
        "    smiles = self.data.smiles.iloc[idx]\n",
        "    # Create Vocabulary for Tokens: \n",
        "    self.tokenizer.create_vocabulary(self.data.smiles.values)\n",
        "    smiles = self.data.smiles.iloc[idx]\n",
        "    self.tokenizer.tokenlist\n",
        "    tensor = self.tokenizer.vectorize(smiles)\n",
        "    return tensor\n",
        "\n",
        "token = SimpleTokenizer()\n",
        "Mol_DS = Molecular_Dataset(token)\n",
        "Mol_DS[0]"
      ],
      "metadata": {
        "colab": {
          "base_uri": "https://localhost:8080/",
          "height": 346
        },
        "id": "6rnF3eyDBeI8",
        "outputId": "68ea2a68-4670-464b-829d-688baaf20c8a"
      },
      "execution_count": 44,
      "outputs": [
        {
          "output_type": "error",
          "ename": "AttributeError",
          "evalue": "ignored",
          "traceback": [
            "\u001b[0;31m---------------------------------------------------------------------------\u001b[0m",
            "\u001b[0;31mAttributeError\u001b[0m                            Traceback (most recent call last)",
            "\u001b[0;32m<ipython-input-44-0f9f786104a4>\u001b[0m in \u001b[0;36m<module>\u001b[0;34m\u001b[0m\n\u001b[1;32m     25\u001b[0m \u001b[0mtoken\u001b[0m \u001b[0;34m=\u001b[0m \u001b[0mSimpleTokenizer\u001b[0m\u001b[0;34m(\u001b[0m\u001b[0;34m)\u001b[0m\u001b[0;34m\u001b[0m\u001b[0;34m\u001b[0m\u001b[0m\n\u001b[1;32m     26\u001b[0m \u001b[0mMol_DS\u001b[0m \u001b[0;34m=\u001b[0m \u001b[0mMolecular_Dataset\u001b[0m\u001b[0;34m(\u001b[0m\u001b[0mtoken\u001b[0m\u001b[0;34m)\u001b[0m\u001b[0;34m\u001b[0m\u001b[0;34m\u001b[0m\u001b[0m\n\u001b[0;32m---> 27\u001b[0;31m \u001b[0mMol_DS\u001b[0m\u001b[0;34m[\u001b[0m\u001b[0;36m0\u001b[0m\u001b[0;34m]\u001b[0m\u001b[0;34m\u001b[0m\u001b[0;34m\u001b[0m\u001b[0m\n\u001b[0m",
            "\u001b[0;32m<ipython-input-44-0f9f786104a4>\u001b[0m in \u001b[0;36m__getitem__\u001b[0;34m(self, idx)\u001b[0m\n\u001b[1;32m     20\u001b[0m     \u001b[0msmiles\u001b[0m \u001b[0;34m=\u001b[0m \u001b[0mself\u001b[0m\u001b[0;34m.\u001b[0m\u001b[0mdata\u001b[0m\u001b[0;34m.\u001b[0m\u001b[0msmiles\u001b[0m\u001b[0;34m.\u001b[0m\u001b[0miloc\u001b[0m\u001b[0;34m[\u001b[0m\u001b[0midx\u001b[0m\u001b[0;34m]\u001b[0m\u001b[0;34m\u001b[0m\u001b[0;34m\u001b[0m\u001b[0m\n\u001b[1;32m     21\u001b[0m     \u001b[0mself\u001b[0m\u001b[0;34m.\u001b[0m\u001b[0mtokenizer\u001b[0m\u001b[0;34m.\u001b[0m\u001b[0mtokenlist\u001b[0m\u001b[0;34m\u001b[0m\u001b[0;34m\u001b[0m\u001b[0m\n\u001b[0;32m---> 22\u001b[0;31m     \u001b[0mtensor\u001b[0m \u001b[0;34m=\u001b[0m \u001b[0mself\u001b[0m\u001b[0;34m.\u001b[0m\u001b[0mtokenizer\u001b[0m\u001b[0;34m.\u001b[0m\u001b[0mvectorize\u001b[0m\u001b[0;34m(\u001b[0m\u001b[0msmiles\u001b[0m\u001b[0;34m)\u001b[0m\u001b[0;34m\u001b[0m\u001b[0;34m\u001b[0m\u001b[0m\n\u001b[0m\u001b[1;32m     23\u001b[0m     \u001b[0;32mreturn\u001b[0m \u001b[0mtensor\u001b[0m\u001b[0;34m\u001b[0m\u001b[0;34m\u001b[0m\u001b[0m\n\u001b[1;32m     24\u001b[0m \u001b[0;34m\u001b[0m\u001b[0m\n",
            "\u001b[0;32m<ipython-input-42-3df58acbd6c1>\u001b[0m in \u001b[0;36mvectorize\u001b[0;34m(self, smiles)\u001b[0m\n\u001b[1;32m     18\u001b[0m     \u001b[0mself\u001b[0m\u001b[0;34m.\u001b[0m\u001b[0mint_to_char\u001b[0m \u001b[0;34m=\u001b[0m \u001b[0;34m{\u001b[0m\u001b[0mi\u001b[0m\u001b[0;34m:\u001b[0m\u001b[0mc\u001b[0m \u001b[0;32mfor\u001b[0m \u001b[0mc\u001b[0m\u001b[0;34m,\u001b[0m\u001b[0mi\u001b[0m \u001b[0;32min\u001b[0m \u001b[0mself\u001b[0m\u001b[0;34m.\u001b[0m\u001b[0mchar_to_int\u001b[0m\u001b[0;34m.\u001b[0m\u001b[0mitems\u001b[0m\u001b[0;34m(\u001b[0m\u001b[0;34m)\u001b[0m\u001b[0;34m}\u001b[0m  \u001b[0;31m# Index to Character\u001b[0m\u001b[0;34m\u001b[0m\u001b[0;34m\u001b[0m\u001b[0m\n\u001b[1;32m     19\u001b[0m   \u001b[0;32mdef\u001b[0m \u001b[0mvectorize\u001b[0m\u001b[0;34m(\u001b[0m\u001b[0mself\u001b[0m\u001b[0;34m,\u001b[0m \u001b[0msmiles\u001b[0m\u001b[0;34m)\u001b[0m\u001b[0;34m:\u001b[0m\u001b[0;34m\u001b[0m\u001b[0;34m\u001b[0m\u001b[0m\n\u001b[0;32m---> 20\u001b[0;31m       \u001b[0;32mreturn\u001b[0m \u001b[0;34m[\u001b[0m\u001b[0mself\u001b[0m\u001b[0;34m.\u001b[0m\u001b[0mchar_to_int\u001b[0m\u001b[0;34m[\u001b[0m\u001b[0mself\u001b[0m\u001b[0;34m.\u001b[0m\u001b[0mstart\u001b[0m\u001b[0;34m]\u001b[0m\u001b[0;34m]\u001b[0m \u001b[0;34m+\u001b[0m \u001b[0;34m[\u001b[0m\u001b[0mself\u001b[0m\u001b[0;34m.\u001b[0m\u001b[0mchar_to_int\u001b[0m\u001b[0;34m.\u001b[0m\u001b[0mget\u001b[0m\u001b[0;34m(\u001b[0m\u001b[0mchar\u001b[0m\u001b[0;34m,\u001b[0m \u001b[0mself\u001b[0m\u001b[0;34m.\u001b[0m\u001b[0mchar_to_int\u001b[0m\u001b[0;34m[\u001b[0m\u001b[0mself\u001b[0m\u001b[0;34m.\u001b[0m\u001b[0munknown\u001b[0m\u001b[0;34m]\u001b[0m\u001b[0;34m)\u001b[0m \u001b[0;32mfor\u001b[0m \u001b[0mchar\u001b[0m \u001b[0;32min\u001b[0m \u001b[0msmiles\u001b[0m\u001b[0;34m]\u001b[0m \u001b[0;34m+\u001b[0m \u001b[0;34m[\u001b[0m\u001b[0mself\u001b[0m\u001b[0;34m.\u001b[0m\u001b[0mchar_to_int\u001b[0m\u001b[0;34m[\u001b[0m\u001b[0mself\u001b[0m\u001b[0;34m.\u001b[0m\u001b[0mend\u001b[0m\u001b[0;34m]\u001b[0m\u001b[0;34m]\u001b[0m\u001b[0;34m\u001b[0m\u001b[0;34m\u001b[0m\u001b[0m\n\u001b[0m\u001b[1;32m     21\u001b[0m   \u001b[0;32mdef\u001b[0m \u001b[0mdevectorize\u001b[0m\u001b[0;34m(\u001b[0m\u001b[0mself\u001b[0m\u001b[0;34m,\u001b[0m \u001b[0mtensor\u001b[0m\u001b[0;34m)\u001b[0m\u001b[0;34m:\u001b[0m\u001b[0;34m\u001b[0m\u001b[0;34m\u001b[0m\u001b[0m\n\u001b[1;32m     22\u001b[0m       \u001b[0;32mreturn\u001b[0m \u001b[0;34m[\u001b[0m\u001b[0mself\u001b[0m\u001b[0;34m.\u001b[0m\u001b[0mint_to_char\u001b[0m\u001b[0;34m[\u001b[0m\u001b[0mi\u001b[0m\u001b[0;34m]\u001b[0m \u001b[0;32mfor\u001b[0m \u001b[0mi\u001b[0m \u001b[0;32min\u001b[0m \u001b[0mtensor\u001b[0m\u001b[0;34m]\u001b[0m\u001b[0;34m\u001b[0m\u001b[0;34m\u001b[0m\u001b[0m\n",
            "\u001b[0;31mAttributeError\u001b[0m: 'SimpleTokenizer' object has no attribute 'char_to_int'"
          ]
        }
      ]
    },
    {
      "cell_type": "markdown",
      "source": [
        "Now To add the Tokeniser to the Dataset: "
      ],
      "metadata": {
        "id": "8QfNUVRfEJwn"
      }
    },
    {
      "cell_type": "code",
      "source": [
        "# A simple tokenizer\n",
        "class SimpleTokenizer():\n",
        "  def __init__(self):\n",
        "    self.start = \"^\"\n",
        "    self.end = \"$\"\n",
        "    self.unknown = \"?\"\n",
        "    self.pad = \" \"\n",
        "  def create_vocabulary(self, smiles):\n",
        "    charset = set(\"\".join(list(smiles)))\n",
        "    #Important that pad gets value 0\n",
        "    self.tokenlist = [self.pad, self.unknown, self.start, self.end] + list(charset)\n",
        "  @property\n",
        "  def tokenlist(self):\n",
        "    return self._tokenlist\n",
        "  @tokenlist.setter\n",
        "  def tokenlist(self, tokenlist):\n",
        "    self._tokenlist = tokenlist\n",
        "    #create the dictionaries      \n",
        "    self.char_to_int = {c:i for i,c in enumerate(self._tokenlist)}\n",
        "    self.int_to_char = {i:c for c,i in self.char_to_int.items()}\n",
        "  def vectorize(self, smiles):\n",
        "      return [self.char_to_int[self.start]] + [self.char_to_int.get(char, self.char_to_int[self.unknown]) for char in smiles] + [self.char_to_int[self.end]]\n",
        "  def devectorize(self, tensor):\n",
        "      return [self.int_to_char[i] for i in tensor]\n",
        "  @property\n",
        "  def n_tokens(self):\n",
        "    return len(self.int_to_char)"
      ],
      "metadata": {
        "id": "tjBJkWuNIfUK"
      },
      "execution_count": 61,
      "outputs": []
    },
    {
      "cell_type": "code",
      "source": [
        "# Build a dataset, that returns tensors\n",
        "class MolDataset(Dataset):\n",
        "  def __init__(self, data, tokenizer):\n",
        "    self.data = data\n",
        "    self.tokenizer = tokenizer\n",
        "  def __len__(self):\n",
        "    return len(self.data)\n",
        "  def __getitem__(self, idx):\n",
        "    smiles = self.data.smiles.iloc[idx]\n",
        "    tensor = self.tokenizer.vectorize(smiles)\n",
        "    return tensor"
      ],
      "metadata": {
        "id": "WUvak1wjEQKk"
      },
      "execution_count": 62,
      "outputs": []
    },
    {
      "cell_type": "code",
      "source": [
        "class ZincShardDataModule(LightningDataModule):\n",
        "    def __init__(self):\n",
        "        super().__init__()\n",
        "        self.tokenizer = SimpleTokenizer()\n",
        "        self.val_size = 200  # Validation size\n",
        "        self.train_size = 200000\n",
        "        self.batch_size = 128\n",
        "        self.shard = \"EEBD\" #Shard must be > self.val_size + self.train_size\n",
        "    def prepare_data(self):\n",
        "        os.system(f\"mkdir -pv {self.shard[0:2]} && wget -c http://files.docking.org/2D/{self.shard[0:2]}/{self.shard}.smi -O {self.shard[0:2]}/{self.shard}.smi\")\n",
        "    def randomize_smiles_atom_order(self, smiles):\n",
        "        mol = Chem.MolFromSmiles(smiles)\n",
        "        atom_idxs = list(range(mol.GetNumAtoms()))\n",
        "        np.random.shuffle(atom_idxs)\n",
        "        mol = Chem.RenumberAtoms(mol,atom_idxs)\n",
        "        return Chem.MolToSmiles(mol, canonical=False)\n",
        "    def custom_collate_and_pad(self, batch):\n",
        "        #Batch is a list of vectorized smiles\n",
        "        tensors = [torch.tensor(l) for l in batch]\n",
        "        #pad and transpose, pytorch RNNs  (and now transformers) expect (sequence,batch, features) batch) dimensions\n",
        "        tensors = torch.nn.utils.rnn.pad_sequence(tensors)\n",
        "        return tensors\n",
        "    def setup(self):\n",
        "        #Load data\n",
        "        self.data = pd.read_csv(f\"{self.shard[0:2]}/{self.shard}.smi\", sep = \" \", nrows = self.val_size + self.train_size)\n",
        "        #Atom order randomize SMILES\n",
        "        self.data[\"smiles\"] = self.data[\"smiles\"].apply(self.randomize_smiles_atom_order)  # Apply atom randomisation as this was shown to imporve the generation space of the models\n",
        "         \n",
        "        #Initialize Tokenizer\n",
        "        self.tokenizer.create_vocabulary(self.data.smiles.values)\n",
        "        #Create splits for train/val\n",
        "        np.random.seed(seed=42)\n",
        "        idxs = np.array(range(len(self.data)))\n",
        "        np.random.shuffle(idxs)\n",
        "        val_idxs, train_idxs = idxs[:self.val_size], idxs[self.val_size:self.val_size+self.train_size]\n",
        "        self.train_data = self.data.iloc[train_idxs]\n",
        "        self.val_data = self.data.iloc[val_idxs]\n",
        "    def train_dataloader(self):\n",
        "        dataset = MolDataset(self.train_data, self.tokenizer)\n",
        "        return DataLoader(dataset, batch_size=self.batch_size,collate_fn=self.custom_collate_and_pad)\n",
        "    def val_dataloader(self):\n",
        "        dataset = MolDataset(self.val_data, self.tokenizer)\n",
        "        return DataLoader(dataset, batch_size=self.batch_size,collate_fn=self.custom_collate_and_pad, shuffle=False)"
      ],
      "metadata": {
        "id": "E9FUbdIVEX3q"
      },
      "execution_count": 63,
      "outputs": []
    },
    {
      "cell_type": "markdown",
      "source": [
        "Now let's Instanciate the Dataset: "
      ],
      "metadata": {
        "id": "n3sszcwvHILb"
      }
    },
    {
      "cell_type": "code",
      "source": [
        "molecular_stuff = ZincShardDataModule()\n",
        "molecular_stuff.prepare_data()\n",
        "molecular_stuff.setup()\n",
        "\n",
        "molecular_stuff.data.head()"
      ],
      "metadata": {
        "colab": {
          "base_uri": "https://localhost:8080/",
          "height": 206
        },
        "id": "XojevrB9HJ-w",
        "outputId": "553982d4-6cf3-44bd-b551-59971111ea8f"
      },
      "execution_count": 65,
      "outputs": [
        {
          "output_type": "execute_result",
          "data": {
            "text/plain": [
              "                                              smiles    zinc_id\n",
              "0       c1c2c(ccc1COC(COc1ccccc1[N+]([O-])=O)=O)OCO2    6119166\n",
              "1     c1ccc([N+]([O-])=O)c(NCCC(=O)N(CCc2ncccc2)C)c1   55206436\n",
              "2  O=C(OCC1CCN(c2ccc([N+]([O-])=O)cn2)CC1)c1c(C)ocn1  105766284\n",
              "3  c1cc([C@H](C)N2C(=O)[C@H](CCSC)NC2=S)cc([N+](=...   55179745\n",
              "4  [N+](c1cc(NC(=O)CN2CCC(NC(C)C)CC2)c(C)cc1)(=O)...  108371623"
            ],
            "text/html": [
              "\n",
              "  <div id=\"df-2f40596c-0784-42d7-8cde-156161b78e3f\">\n",
              "    <div class=\"colab-df-container\">\n",
              "      <div>\n",
              "<style scoped>\n",
              "    .dataframe tbody tr th:only-of-type {\n",
              "        vertical-align: middle;\n",
              "    }\n",
              "\n",
              "    .dataframe tbody tr th {\n",
              "        vertical-align: top;\n",
              "    }\n",
              "\n",
              "    .dataframe thead th {\n",
              "        text-align: right;\n",
              "    }\n",
              "</style>\n",
              "<table border=\"1\" class=\"dataframe\">\n",
              "  <thead>\n",
              "    <tr style=\"text-align: right;\">\n",
              "      <th></th>\n",
              "      <th>smiles</th>\n",
              "      <th>zinc_id</th>\n",
              "    </tr>\n",
              "  </thead>\n",
              "  <tbody>\n",
              "    <tr>\n",
              "      <th>0</th>\n",
              "      <td>c1c2c(ccc1COC(COc1ccccc1[N+]([O-])=O)=O)OCO2</td>\n",
              "      <td>6119166</td>\n",
              "    </tr>\n",
              "    <tr>\n",
              "      <th>1</th>\n",
              "      <td>c1ccc([N+]([O-])=O)c(NCCC(=O)N(CCc2ncccc2)C)c1</td>\n",
              "      <td>55206436</td>\n",
              "    </tr>\n",
              "    <tr>\n",
              "      <th>2</th>\n",
              "      <td>O=C(OCC1CCN(c2ccc([N+]([O-])=O)cn2)CC1)c1c(C)ocn1</td>\n",
              "      <td>105766284</td>\n",
              "    </tr>\n",
              "    <tr>\n",
              "      <th>3</th>\n",
              "      <td>c1cc([C@H](C)N2C(=O)[C@H](CCSC)NC2=S)cc([N+](=...</td>\n",
              "      <td>55179745</td>\n",
              "    </tr>\n",
              "    <tr>\n",
              "      <th>4</th>\n",
              "      <td>[N+](c1cc(NC(=O)CN2CCC(NC(C)C)CC2)c(C)cc1)(=O)...</td>\n",
              "      <td>108371623</td>\n",
              "    </tr>\n",
              "  </tbody>\n",
              "</table>\n",
              "</div>\n",
              "      <button class=\"colab-df-convert\" onclick=\"convertToInteractive('df-2f40596c-0784-42d7-8cde-156161b78e3f')\"\n",
              "              title=\"Convert this dataframe to an interactive table.\"\n",
              "              style=\"display:none;\">\n",
              "        \n",
              "  <svg xmlns=\"http://www.w3.org/2000/svg\" height=\"24px\"viewBox=\"0 0 24 24\"\n",
              "       width=\"24px\">\n",
              "    <path d=\"M0 0h24v24H0V0z\" fill=\"none\"/>\n",
              "    <path d=\"M18.56 5.44l.94 2.06.94-2.06 2.06-.94-2.06-.94-.94-2.06-.94 2.06-2.06.94zm-11 1L8.5 8.5l.94-2.06 2.06-.94-2.06-.94L8.5 2.5l-.94 2.06-2.06.94zm10 10l.94 2.06.94-2.06 2.06-.94-2.06-.94-.94-2.06-.94 2.06-2.06.94z\"/><path d=\"M17.41 7.96l-1.37-1.37c-.4-.4-.92-.59-1.43-.59-.52 0-1.04.2-1.43.59L10.3 9.45l-7.72 7.72c-.78.78-.78 2.05 0 2.83L4 21.41c.39.39.9.59 1.41.59.51 0 1.02-.2 1.41-.59l7.78-7.78 2.81-2.81c.8-.78.8-2.07 0-2.86zM5.41 20L4 18.59l7.72-7.72 1.47 1.35L5.41 20z\"/>\n",
              "  </svg>\n",
              "      </button>\n",
              "      \n",
              "  <style>\n",
              "    .colab-df-container {\n",
              "      display:flex;\n",
              "      flex-wrap:wrap;\n",
              "      gap: 12px;\n",
              "    }\n",
              "\n",
              "    .colab-df-convert {\n",
              "      background-color: #E8F0FE;\n",
              "      border: none;\n",
              "      border-radius: 50%;\n",
              "      cursor: pointer;\n",
              "      display: none;\n",
              "      fill: #1967D2;\n",
              "      height: 32px;\n",
              "      padding: 0 0 0 0;\n",
              "      width: 32px;\n",
              "    }\n",
              "\n",
              "    .colab-df-convert:hover {\n",
              "      background-color: #E2EBFA;\n",
              "      box-shadow: 0px 1px 2px rgba(60, 64, 67, 0.3), 0px 1px 3px 1px rgba(60, 64, 67, 0.15);\n",
              "      fill: #174EA6;\n",
              "    }\n",
              "\n",
              "    [theme=dark] .colab-df-convert {\n",
              "      background-color: #3B4455;\n",
              "      fill: #D2E3FC;\n",
              "    }\n",
              "\n",
              "    [theme=dark] .colab-df-convert:hover {\n",
              "      background-color: #434B5C;\n",
              "      box-shadow: 0px 1px 3px 1px rgba(0, 0, 0, 0.15);\n",
              "      filter: drop-shadow(0px 1px 2px rgba(0, 0, 0, 0.3));\n",
              "      fill: #FFFFFF;\n",
              "    }\n",
              "  </style>\n",
              "\n",
              "      <script>\n",
              "        const buttonEl =\n",
              "          document.querySelector('#df-2f40596c-0784-42d7-8cde-156161b78e3f button.colab-df-convert');\n",
              "        buttonEl.style.display =\n",
              "          google.colab.kernel.accessAllowed ? 'block' : 'none';\n",
              "\n",
              "        async function convertToInteractive(key) {\n",
              "          const element = document.querySelector('#df-2f40596c-0784-42d7-8cde-156161b78e3f');\n",
              "          const dataTable =\n",
              "            await google.colab.kernel.invokeFunction('convertToInteractive',\n",
              "                                                     [key], {});\n",
              "          if (!dataTable) return;\n",
              "\n",
              "          const docLinkHtml = 'Like what you see? Visit the ' +\n",
              "            '<a target=\"_blank\" href=https://colab.research.google.com/notebooks/data_table.ipynb>data table notebook</a>'\n",
              "            + ' to learn more about interactive tables.';\n",
              "          element.innerHTML = '';\n",
              "          dataTable['output_type'] = 'display_data';\n",
              "          await google.colab.output.renderOutput(dataTable, element);\n",
              "          const docLink = document.createElement('div');\n",
              "          docLink.innerHTML = docLinkHtml;\n",
              "          element.appendChild(docLink);\n",
              "        }\n",
              "      </script>\n",
              "    </div>\n",
              "  </div>\n",
              "  "
            ]
          },
          "metadata": {},
          "execution_count": 65
        }
      ]
    },
    {
      "cell_type": "markdown",
      "source": [
        "Let's Look at how the Dataloaders work: "
      ],
      "metadata": {
        "id": "U71sqKWYHZZf"
      }
    },
    {
      "cell_type": "code",
      "source": [
        "TL = molecular_stuff.val_dataloader()\n",
        "test_batch = next(iter(TL))\n",
        "test_batch"
      ],
      "metadata": {
        "colab": {
          "base_uri": "https://localhost:8080/"
        },
        "id": "bJd_n-ZLHcbi",
        "outputId": "b2c742a8-2f49-4a07-c069-adb86d994c1c"
      },
      "execution_count": 66,
      "outputs": [
        {
          "output_type": "execute_result",
          "data": {
            "text/plain": [
              "tensor([[ 2,  2,  2,  ...,  2,  2,  2],\n",
              "        [ 8, 35, 23,  ..., 23, 35, 34],\n",
              "        [13, 13, 34,  ..., 13, 29, 23],\n",
              "        ...,\n",
              "        [ 0,  0,  0,  ...,  0,  0,  0],\n",
              "        [ 0,  0,  0,  ...,  0,  0,  0],\n",
              "        [ 0,  0,  0,  ...,  0,  0,  0]])"
            ]
          },
          "metadata": {},
          "execution_count": 66
        }
      ]
    },
    {
      "cell_type": "markdown",
      "source": [
        "Great so we have the Tokenised Dataset now. Let's now implement a simple RNN model: \n",
        "# Not LSTM Yet: \n",
        "\n",
        "To implement our RNN, we will start by creating an `nn.Module` that will represent a single RNN cell. This cell will update its hidden state by:\n",
        "\n",
        "- Applying a linear, fully connected layer to the cell input.\n",
        "- Applying a linear, fully connected layer to the previous hidden state.\n",
        "- Applying a non-linear activation to the result."
      ],
      "metadata": {
        "id": "SQfaH3gZI0Dh"
      }
    },
    {
      "cell_type": "code",
      "source": [
        "import torch.nn as nn\n",
        "\n",
        "class RNNCell(nn.Module):\n",
        "\n",
        "    def __init__(self, input_size, hidden_size, bias=True, activation=\"tanh\"):\n",
        "        super(RNNCell, self).__init__()\n",
        "        \n",
        "        self.input_size = input_size\n",
        "        self.hidden_size = hidden_size\n",
        "        self.bias = bias\n",
        "\n",
        "        # select appropriate activation function\n",
        "        if activation == 'tanh':\n",
        "          self.act = nn.Tanh()   \n",
        "        elif activation == 'sigmoid':\n",
        "          self.act = nn.Sigmoid()\n",
        "        elif activation == 'ReLU':\n",
        "          self.act == nn.ReLU()\n",
        "\n",
        "        # create linear layer from input to hidden state\n",
        "        self.i2h = nn.Linear(input_size, hidden_size, bias=self.bias)\n",
        "        # create linear layer from previous to current hidden state\n",
        "        self.h2h = nn.Linear(hidden_size, hidden_size, bias=self.bias)\n",
        "\n",
        "        # initialise the parameters  --> we need to initialise the parameters in this case\n",
        "        # Use the reset parameters function:\n",
        "\n",
        "        self.reset_parameters()\n",
        "\n",
        "\n",
        "    def reset_parameters(self):\n",
        "        std = 1.0 / np.sqrt(self.hidden_size)\n",
        "\n",
        "        for w in self.parameters():\n",
        "            w.data.uniform_(-std, std)\n",
        "\n",
        "    def forward(self, input, h):\n",
        "        # map from input to hidden state space\n",
        "        input = self.i2h(input)\n",
        "\n",
        "        # map from previous to current hidden state space\n",
        "        h = self.h2h(h)\n",
        "\n",
        "        # calculate new hidden state by applying activation\n",
        "        h = self.act(input + h)\n",
        "\n",
        "\n",
        "\n",
        "        return h"
      ],
      "metadata": {
        "id": "ttdjjRA8J0Rg"
      },
      "execution_count": 68,
      "outputs": []
    },
    {
      "cell_type": "markdown",
      "source": [
        "Once we have implemented a single RNN cell, we can write another `nn.Module` for our RNN network: it will contain one or more cells, concatenated forming multiple layers, and will apply the RNN cells to a given input sequence.\n",
        "\n",
        "The final output of the RNN will be obtained by applying a final fully connected layer to the last hidden state. \n",
        "\n",
        "# Should Set bias to True Later"
      ],
      "metadata": {
        "id": "Odlkeqz3KFha"
      }
    },
    {
      "cell_type": "code",
      "source": [
        "class RNN(nn.Module):\n",
        "\n",
        "    def __init__(self, input_size, hidden_size, num_layers, output_size, bias=False, activation='tanh'):\n",
        "        super(RNN, self).__init__()\n",
        "        \n",
        "        self.input_size = input_size\n",
        "        self.hidden_size = hidden_size\n",
        "        self.output_size = output_size\n",
        "        self.num_layers = num_layers\n",
        "        self.bias = bias\n",
        "\n",
        "        # create a list of modules --> concatenate many cells together\n",
        "        self.rnn_cell_list = nn.ModuleList()\n",
        "\n",
        "\n",
        "\n",
        "        # create each layer in the network\n",
        "        # take care when defining the input size of the first vs later layers because after the first one, the size of the inputs will be of the hidden layers\n",
        "        for l in range(self.num_layers):\n",
        "          self.rnn_cell_list.append(RNNCell(self.input_size if l == 0 else self.hidden_size,\n",
        "                                            self.hidden_size, self.bias, activation))\n",
        "\n",
        "        \n",
        "\n",
        "        # create a final linear layer from hidden state to network output\n",
        "        self.h2o = nn.Linear(self.hidden_size, self.output_size)\n",
        "\n",
        "\n",
        "    \n",
        "    def init_hidden(self,  batch_size=1):\n",
        "        # initialise the hidden state\n",
        "        return torch.zeros(self.num_layers, batch_size, self.hidden_size, requires_grad=False).to(device)\n",
        "\n",
        "    def forward(self, input, h0):\n",
        "        # Input of shape (batch_size, seqence length, input_size)\n",
        "        # Output of shape (batch_size, output_size)\n",
        "\n",
        "        batch_size = input.size(0)\n",
        "        step_size = input.size(1)\n",
        "\n",
        "        # Initialise lists --> to be able to keep history of then\n",
        "        outs = []\n",
        "        hidden = []\n",
        "\n",
        "        for layer in range(self.num_layers):  # initialise hidden\n",
        "          hidden.append(h0[layer, :, :])\n",
        "\n",
        "        # iterate over all elements in the sequence\n",
        "        # first layer should be input size then the rest should be size of hidden\n",
        "        for t in range(step_size):\n",
        "            # iterate over each layer \n",
        "            for layer in range(self.num_layers):\n",
        "                # apply each layer\n",
        "                # take care to apply the layer to the input or the\n",
        "                # previous hidden state depending on the layer number\n",
        "                if layer == 0:\n",
        "                  hidden_1 = self.rnn_cell_list[layer](input[:, t, :], hidden[layer])\n",
        "                else: \n",
        "                  hidden_1 = self.rnn_cell_list[layer](hidden[layer-1], hidden)\n",
        "                # store the hidden state of each layer\n",
        "\n",
        "            hidden[layer] = hidden_1\n",
        "\n",
        "            # the hidden state of the last layer needs to be recorded\n",
        "            # to be used in the output\n",
        "            outs.append(hidden_1)\n",
        "\n",
        "        # calculate output for each element in the sequence\n",
        "        out = torch.stack([self.h2o(out) for out in outs], dim=1)\n",
        "\n",
        "        return out"
      ],
      "metadata": {
        "id": "a-2tDkZMNMJv"
      },
      "execution_count": 72,
      "outputs": []
    },
    {
      "cell_type": "code",
      "source": [
        "class SmilesRNN(LightningModule):\n",
        "\n",
        "    def __init__(self, n_tokens, input_size, hidden_size, num_layers, num_unique_words):\n",
        "        super(SmilesRNN, self).__init__()\n",
        "\n",
        "        self.input_size = input_size\n",
        "        self.hidden_size = hidden_size\n",
        "        self.num_layers = num_layers\n",
        "        self.num_unique_words = num_unique_words\n",
        "        \n",
        "        # add a nn.Embedding\n",
        "        self.embedding = nn.Embedding(self.hparams.n_tokens, self.hparams.d_model) # give number of words and its size\n",
        "        \n",
        "        # add our RNN\n",
        "        self.rnn = RNN(self.input_size, self.hidden_size, self.num_layers, self.num_unique_words, bias=False, activation='tanh')\n",
        "\n",
        "\n",
        "    def forward(self, x):\n",
        "      batch_size = x.size(0)\n",
        "\n",
        "        # initialise hidden state\n",
        "      \n",
        "      hidden = self.rnn.init_hidden(batch_size)\n",
        "        \n",
        "        # store the word embeddings\n",
        "      embedded = self.embedding(x)\n",
        "\n",
        "        # apply the RNN\n",
        "      output = self.rnn(embedded, hidden)\n",
        "\n",
        "      return output\n",
        "\n",
        "def count_trainable_parameters(model):\n",
        "    return sum([p.numel() for p in model.parameters() if p.requires_grad])"
      ],
      "metadata": {
        "id": "GsR0heUCRoxw"
      },
      "execution_count": 93,
      "outputs": []
    },
    {
      "cell_type": "code",
      "source": [],
      "metadata": {
        "id": "su-mXUAMT_c2"
      },
      "execution_count": null,
      "outputs": []
    },
    {
      "cell_type": "markdown",
      "source": [
        "For the Training you could implement that the first Input in is the Start Token"
      ],
      "metadata": {
        "id": "lE4RSbwmUADn"
      }
    },
    {
      "cell_type": "markdown",
      "source": [],
      "metadata": {
        "id": "I09xLcllUABG"
      }
    },
    {
      "cell_type": "markdown",
      "source": [
        "The train and evaluate functions:"
      ],
      "metadata": {
        "id": "cYHKNZknL-tu"
      }
    },
    {
      "cell_type": "code",
      "source": [
        "def train_rnn_gen(model, optimizer, criterion, dataloader):\n",
        "    model.train()    # set model to train mode\n",
        "    train_loss = 0   # initialise the loss\n",
        "    \n",
        "    # loop over dataset\n",
        "    for i, (x, y) in enumerate(dataloader):\n",
        "        # send data to device\n",
        "        x, y = x.to(device), y.to(device)\n",
        "        # reset the gradients\n",
        "        optimizer.zero_grad()\n",
        "        # get output\n",
        "        y_pred = model(x)\n",
        "        \n",
        "        # compute the loss (change shape as crossentropy takes input as batch_size, number of classes, d1, d2, ...)\n",
        "        loss = criterion(y_pred.permute(0, 2, 1), y) # Flip dimentions so they make sense with y\n",
        "        train_loss += loss\n",
        "\n",
        "        # backpropagate\n",
        "        loss.backward()\n",
        "\n",
        "        # update weights\n",
        "        optimizer.step()\n",
        "\n",
        "    return train_loss/len(dataloader)\n",
        "\n",
        "\n",
        "def predict_rnn_gen(dataset, model, text, next_words=100):\n",
        "  # need to transform text so that its understandable by network\n",
        "    model.eval()  # set model to evaluation mode\n",
        "\n",
        "    words = text.split(' ')\n",
        "\n",
        "    # loop over words\n",
        "    for i in range(next_words):\n",
        "        # take word from dataset and send to device\n",
        "        x = torch.tensor([[dataset.word_to_idx[word]] for word in words[i:]]).to(device)\n",
        "\n",
        "        # compute output and hidden state\n",
        "        y_pred = model(x)\n",
        "       \n",
        "        # take last output\n",
        "        last_word_logits = y_pred[0][-1]\n",
        "\n",
        "        # obtain probability vector for last output # Not the exact thing --> we want to sample from it\n",
        "        p = torch.nn.functional.softmax(last_word_logits, dim=0).detach().cpu().numpy()\n",
        "\n",
        "        # sample probability vector to get index in dataset \n",
        "        word_idx = np.random.choice(len(last_word_logits), p = p)\n",
        "\n",
        "        # get word corresponding to dataset\n",
        "        words.append(dataset.idx_to_word[word_idx])\n",
        "\n",
        "    return ' '.join(words)\n"
      ],
      "metadata": {
        "id": "Os-XDN3NMBse"
      },
      "execution_count": null,
      "outputs": []
    },
    {
      "cell_type": "markdown",
      "source": [
        "Now for the Hyperparamters and Training Loop: "
      ],
      "metadata": {
        "id": "zoWhLrEpMEgE"
      }
    },
    {
      "cell_type": "code",
      "source": [
        "device = device = torch.device(\"cuda\" if torch.cuda.is_available() else \"cpu\") \n",
        "\n",
        "input_size = 128\n",
        "n_hidden = 128                         \n",
        "n_layers = 1\n",
        "embedding_dim = input_size\n",
        "n_unique_words = len(words_dataset.unique_words)\n",
        "batch_size = 256\n",
        "sequence_length = 4\n",
        "\n",
        "lr = 5e-3\n",
        "momentum = 0.5\n",
        "n_epochs = 20\n",
        "\n",
        "rnn_gen = RNN_GEN(input_size, embedding_dim, n_hidden, n_layers, n_unique_words).to(device)\n",
        "print(f'The model has {count_trainable_parameters(rnn_gen):,} trainable parameters')\n",
        "\n",
        "criterion = nn.CrossEntropyLoss()\n",
        "optimizer = torch.optim.Adam(rnn_gen.parameters(), lr=lr)\n",
        "\n",
        "words_dataset = WordsTensorDataset(data, sequence_length=sequence_length)\n",
        "words_dataloader = DataLoader(words_dataset, batch_size=batch_size, shuffle=False)   \n",
        "\n",
        "# Keep track of losses for plotting\n",
        "liveloss = PlotLosses()\n",
        "for epoch in range(n_epochs):\n",
        "    logs = {}\n",
        "    train_loss = train_rnn_gen(rnn_gen, optimizer, criterion, words_dataloader)\n",
        "\n",
        "    print(epoch,train_loss)\n",
        "\n",
        "    logs['' + 'log loss'] = train_loss.item()\n",
        "    liveloss.update(logs)\n",
        "    liveloss.draw()"
      ],
      "metadata": {
        "id": "n2gPz69zMHIS"
      },
      "execution_count": null,
      "outputs": []
    }
  ]
}